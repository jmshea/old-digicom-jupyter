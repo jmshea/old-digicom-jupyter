{
  "metadata": {
    "language_info": {
      "codemirror_mode": {
        "name": "python",
        "version": 3
      },
      "file_extension": ".py",
      "mimetype": "text/x-python",
      "name": "python",
      "nbconvert_exporter": "python",
      "pygments_lexer": "ipython3",
      "version": "3.8"
    },
    "kernelspec": {
      "name": "python",
      "display_name": "Pyolite",
      "language": "python"
    }
  },
  "nbformat_minor": 4,
  "nbformat": 4,
  "cells": [
    {
      "cell_type": "code",
      "source": "import micropip\n\nawait micropip.install('ipywidgets')",
      "metadata": {
        "trusted": true
      },
      "execution_count": 1,
      "outputs": []
    },
    {
      "cell_type": "code",
      "source": "await micropip.install('ipympl')\n",
      "metadata": {
        "trusted": true
      },
      "execution_count": 2,
      "outputs": []
    },
    {
      "cell_type": "code",
      "source": "from IPython.display import display\nimport ipywidgets as widgets\nimport matplotlib.pyplot as plt\nimport numpy as np",
      "metadata": {
        "trusted": true
      },
      "execution_count": 3,
      "outputs": []
    },
    {
      "cell_type": "code",
      "source": "%matplotlib ipympl",
      "metadata": {
        "trusted": true
      },
      "execution_count": 4,
      "outputs": []
    },
    {
      "cell_type": "code",
      "source": "x = np.linspace(0, 2, 1000)\nplt.ioff()\nfig, ax = plt.subplots(1, figsize=(10, 4))\nplt.suptitle('Sine Wave')\n\n\ndef update_plot(amp, phase, freq):\n    \n    ax.clear()\n    y = amp * np.sin(freq * 2 * np.pi * x + phase * 2 * np.pi)\n    units = 'amp = {} $(psi)$ \\nphase = {} $(s)$ \\nfreq = {} $(Hz)$'\n    \n    ax.plot(x, y, label=units.format(amp, phase, freq))\n    ax.set_xlim(x[0], x[-1])\n    ax.set_ylim(-12, 12)\n    ax.legend(loc=1)\n    ax.set_xlabel('$(s)$')\n    fig.show()\n\n\namp = widgets.FloatSlider(min=1, max=10, value=5, description='Amp:')\nphase = widgets.FloatSlider(min=0, max=5, value=0, description='Phase:')\nfreq = widgets.FloatSlider(min=1, max=10, value=1, description='Freq:')\n    \nwidgets.interactive(update_plot, amp=amp, phase=phase, freq=freq)",
      "metadata": {
        "trusted": true
      },
      "execution_count": 5,
      "outputs": [
        {
          "output_type": "display_data",
          "data": {
            "text/plain": "interactive(children=(FloatSlider(value=5.0, description='Amp:', max=10.0, min=1.0), FloatSlider(value=0.0, de…",
            "application/vnd.jupyter.widget-view+json": {
              "version_major": 2,
              "version_minor": 0,
              "model_id": "87c5fb901bd148a3a8c2ef7c95efeca4"
            }
          },
          "metadata": {}
        },
        {
          "execution_count": 5,
          "output_type": "execute_result",
          "data": {},
          "metadata": {}
        }
      ]
    },
    {
      "cell_type": "code",
      "source": "",
      "metadata": {},
      "execution_count": null,
      "outputs": []
    }
  ]
}