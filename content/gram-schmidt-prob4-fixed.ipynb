{
  "metadata": {
    "kernelspec": {
      "name": "python",
      "display_name": "Pyolite",
      "language": "python"
    },
    "language_info": {
      "codemirror_mode": {
        "name": "python",
        "version": 3
      },
      "file_extension": ".py",
      "mimetype": "text/x-python",
      "name": "python",
      "nbconvert_exporter": "python",
      "pygments_lexer": "ipython3",
      "version": "3.8"
    }
  },
  "nbformat_minor": 5,
  "nbformat": 4,
  "cells": [
    {
      "cell_type": "markdown",
      "source": "# Homework: Gram-Schmidt with Piecewise-Constant Signals\n\n\nIf you have been working on the problem set and had problems with loading the pickle file for problem 4, use this file.",
      "metadata": {},
      "id": "87644514-3157-4496-b184-0b4e5f80804d"
    },
    {
      "cell_type": "markdown",
      "source": "Start by importing some libraries we will need:",
      "metadata": {},
      "id": "0f6a897b-bb33-495b-b81b-9cc9a12457dd"
    },
    {
      "cell_type": "code",
      "source": "import numpy as np\nfrom numpy.linalg import norm \n\nimport matplotlib.pyplot as plt\n%matplotlib inline",
      "metadata": {
        "trusted": true
      },
      "execution_count": null,
      "outputs": [],
      "id": "d76d5334-862e-41aa-924e-23d8997f6b5e"
    },
    {
      "cell_type": "code",
      "source": "def plotsig( vector ):\n    n=len(vector)\n    t=range(n +2)\n    plt.step(t, np.hstack( ([0], vector, [0])) )\n    plt.xlim(0, n+0.001)\n    ax=plt.gca()\n    ax.spines['left'].set_position('zero')\n    ax.spines['right'].set_color('none')\n    ax.spines['bottom'].set_position('zero')\n    ax.spines['top'].set_color('none')\n\n    # remove the ticks from the top and right edges\n    ax.xaxis.set_ticks_position('bottom')\n    ax.yaxis.set_ticks_position('left')",
      "metadata": {
        "trusted": true
      },
      "execution_count": null,
      "outputs": [],
      "id": "3fce65a0-4ef0-4557-90e4-db8da9fcec97"
    },
    {
      "cell_type": "markdown",
      "source": "### 4. Analyze the following signals.\n\nThe file `signals.pkl` is a Python 3.x pickle file that contains a\n    single dictionary of key/value pairs, with the keys being the\n    names of the variables mentioned below matched to the\n    corresponding arrays.\n\n  Each of the variables in the data file, except for $S$, consists of\n  a matrix whose rows represent signals.  The variable $S$ is also a\n  matrix, but its rows represent signals that are to be used as a\n  basis in part (f).\n\n  The parts below ask you to find the signal-space representation for\n  each signal set. The easiest way to do this (other than using some\n  existing code that to do Gram-Schmidt or equivalent) is to write\n  a function to do the Gram-Schmidt orthogonalization procedure.\n  The procedure should output both the\n  orthonormal basis functions and the vector representations of each\n  signal.  **Do not just use a direct call to the QR decomposition.\n  Also, I know there are many Gram-Schmidt procedures written in\n    MATLAB on the web.  Please do not use those.  Do your own work\n    independently. This is not hard because you are just iterating over\n    the signals and finding the procedure (much like in the example and problems\n    above). Also, most of the versions on\n    the web require that the signal set be of the same size as the\n    basis.  That is not true for some of the signals that you will be\n    asked to process.**\n\n  Note that Python uses floating point numbers to represent\n  quantities that might not have a finite-bit floating point\n  representation.  Thus some mathematical errors will arise and may\n  cause difficulty as you implement the algorithm.  For the purposes\n  of this algorithm, I suggest you treat an inner product as 0 if the\n  value is less than 0.01.  Otherwise, you will end up with some\n  really small values assigned to inner products that would have been\n  zero with infinite-precision math.\n\n\n**a)** For each signal set, run it through your algorithm, specify\n    the dimensionality of the signal set, and give the vector\n    representation of each signal.\n\n**b)** Compare the vector representations of signal sets $A$ and $B$.  What do you observe?  Explain any similarities or differences.\n    Did you notice these before running the Gram-Schmidt procedure?\n\n**c)** Plot the signal constellation for signal set $P$.\n    Look at the signal constellation and plots of the original signals -- which features \n    are varied across different signals?\n    What properties can you observe about this\n    signal set from the signal space representation?  How many correlators\n    would the demodulator need to optimally detect this signal set?\n\n**d)**   Look at the signal-space representation and the plots of the original signals for signal set $F$ -- which features \n    are varied across different signals? What properties can you observe about this\n    signal set from the signal space representation?  How many\n    correlators would the demodulator need to optimally detect this\n    signal set?\n\n**e)** Find the signal-space representation of signal set $Q$ and plot the signal constellation.\n    Look at the signal constellation and plots of the original signals -- which features \n    are varied across different signals? What properties can you observe about this signal\n    set from the signal space representation?  How many correlators\n    would the demodulator need to optimally detect this signal set?\n\n**f)** Modify your Gram-Schmidt algorithm to allow you to specify a set\n    of basis waveforms.  I.e., the new algorithm will only find the \n    vector representations of each signal.  Run the new algorithm on\n    the signal set $Q$ when the rows of $S$ are used as the basis.  Plot\n    the signal constellation.\n    \n ",
      "metadata": {},
      "id": "c9d2bd1c-8c15-474a-b756-aaba6d6a84d5"
    },
    {
      "cell_type": "code",
      "source": "from js import fetch\nimport pickle\n\nURL = \"https://raw.githubusercontent.com/jmshea/digicom-jupyter/main/content/signals.pkl\"\n\nres = await fetch(URL)\ntext = await res.arrayBuffer()\n\ndata = pickle.loads(text.to_py())",
      "metadata": {
        "trusted": true
      },
      "execution_count": 1,
      "outputs": [],
      "id": "37eb1f29-bbdc-42d1-82dd-4dc100b27a60"
    },
    {
      "cell_type": "code",
      "source": "data.keys()",
      "metadata": {
        "trusted": true
      },
      "execution_count": 2,
      "outputs": [
        {
          "execution_count": 2,
          "output_type": "execute_result",
          "data": {
            "text/plain": "dict_keys(['S', 'A', 'B', 'C', 'Q', 'F', 'P'])"
          },
          "metadata": {}
        }
      ],
      "id": "67afc230-84b7-46f9-baeb-d29586005631"
    },
    {
      "cell_type": "code",
      "source": "S = data['S']; A = data['A']; B = data['B']; C = data['C']\nQ = data['Q']; F = data['F']; P = data['P']",
      "metadata": {
        "trusted": true
      },
      "execution_count": 3,
      "outputs": [],
      "id": "5e57e827-444e-4252-bc35-03a487b219f0"
    }
  ]
}