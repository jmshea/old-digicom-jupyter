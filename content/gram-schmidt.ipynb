{
  "metadata": {
    "kernelspec": {
      "name": "python",
      "display_name": "Pyolite",
      "language": "python"
    },
    "language_info": {
      "codemirror_mode": {
        "name": "python",
        "version": 3
      },
      "file_extension": ".py",
      "mimetype": "text/x-python",
      "name": "python",
      "nbconvert_exporter": "python",
      "pygments_lexer": "ipython3",
      "version": "3.8"
    }
  },
  "nbformat_minor": 5,
  "nbformat": 4,
  "cells": [
    {
      "cell_type": "markdown",
      "source": "# Homework: Gram-Schmidt with Piecewise-Constant Signals\n",
      "metadata": {},
      "id": "87644514-3157-4496-b184-0b4e5f80804d"
    },
    {
      "cell_type": "markdown",
      "source": "Suppose a real signal set consists of signals that are all piecewise constant on each interval that is bounded by two consecutive integres. I.e., if $\\mathcal{S}= \\left\\{ s_i(t) \\right\\}$, then $\\forall s_i(t) \\in \\mathcal {S}$,\n\n$$\ns_i(t) = c_{ij}, ~~~ \\forall j \\le t < j+1, \\forall j \\in \\mathbb{Z}\n$$\n\nfor some real constants $c_{ij}$.\n\nThen we can write $s_i(t)$ as \n\n$$\ns_i(t) = \\sum_j c_{ij} p_1(t-j),\n$$\nAssuming $s_i(t)$ is causal, let $\\mathbf{c}_i = \\left[ c_{i,0} c_{i,1} ... \\right]$.\n\nThe energy (norm-squared) of $s_i(t)$ is then\n\n\\begin{align*}\ns_{t}^{2} (t) &= \\int \\sum_j  c_{ij}  p_1(t-j) \\sum_k c_{ik}  p_1( t-k) ~dt\\\\\n&= \\int \\sum_j \\sum_k c_{ij} c_{ik}  p_1(t-j) p_1( t-k)  ~dt\\\\\n&= \\sum_j c_{ij}^2 \\int  p_1(t-j) ~ dt \\\\\n&= \\sum_j c_{ij}^2 \\\\\n&= \\left| \\mathbf{c}_i \\right|^2,\n\\end{align*}\nwhere we used the fact that $p_1(t-j)p_1(t-k) =0$ for all $j \\ne k$.\n\nNote also that if two signals $f(t)$ and $g(t)$ are piecewise continuous on each interval with integer boundaries, with coefficient vectors $\\mathbf{f}$ and $\\mathbf{g}$, respectively, then \n\n\\begin{align*}\n\\left< f(t), g(t) \\right> &= \\int \\sum_i f_i p_1 (t-i) \\sum_j g_j p_1(t-j) ~dt \\\\\n&= \\int \\sum_i f_i p_1 (t-i) \\sum_j g_j p_1(t-j) ~dt \\\\\n&= \\sum_i f_i g_i \\int  p_1(t-i)~ dt \\\\\n&= \\left<\\mathbf{f}, \\mathbf{g} \\right>.\n\\end{align*}\n\nWhat this means is that if we have such signals, that instead of doing lots of integrals to compute the basis functions and representations in Gram-Schmidt, we can just do the same math on the vectors of coefficients.\n\nLet's do an example about working with the vector representations of such functions, and we will try to learn something else along the way.",
      "metadata": {},
      "id": "3a26fc8d-736a-4a14-a8a5-070fb2a1de2e"
    },
    {
      "cell_type": "markdown",
      "source": "Start by importing some libraries we will need:",
      "metadata": {},
      "id": "0f6a897b-bb33-495b-b81b-9cc9a12457dd"
    },
    {
      "cell_type": "code",
      "source": "import numpy as np\nfrom numpy.linalg import norm \n\nimport matplotlib.pyplot as plt\n%matplotlib inline",
      "metadata": {
        "trusted": true
      },
      "execution_count": 1,
      "outputs": [],
      "id": "d76d5334-862e-41aa-924e-23d8997f6b5e"
    },
    {
      "cell_type": "markdown",
      "source": "Next I am providing a function to plot the functions from their vector representations:",
      "metadata": {},
      "id": "bb3a0d4c-39c5-402b-bf68-e3d5f160e12e"
    },
    {
      "cell_type": "code",
      "source": "def plotsig( vector ):\n    n=len(vector)\n    t=range(n +2)\n    plt.step(t, np.hstack( ([0], vector, [0])) )\n    plt.xlim(0, n+0.001)\n    ax=plt.gca()\n    ax.spines['left'].set_position('zero')\n    ax.spines['right'].set_color('none')\n    ax.spines['bottom'].set_position('zero')\n    ax.spines['top'].set_color('none')\n\n    # remove the ticks from the top and right edges\n    ax.xaxis.set_ticks_position('bottom')\n    ax.yaxis.set_ticks_position('left')",
      "metadata": {
        "trusted": true
      },
      "execution_count": 2,
      "outputs": [],
      "id": "3fce65a0-4ef0-4557-90e4-db8da9fcec97"
    },
    {
      "cell_type": "markdown",
      "source": "Now, suppose we have the signals given by the rows of this matrix:",
      "metadata": {},
      "id": "ea46ad71-50d0-473e-bca5-061aa974c806"
    },
    {
      "cell_type": "code",
      "source": "s= np.array([\n    [ 1, 1, 0], # s0(t)\n    [ 1, 2, 1], # s1(t)\n    [ 1, 0, -1] # s2(t)\n])",
      "metadata": {
        "trusted": true
      },
      "execution_count": 3,
      "outputs": [],
      "id": "5cd33efa-b754-4304-b2d5-7116c6353557"
    },
    {
      "cell_type": "markdown",
      "source": "Here are the plots of the functions represented by the rows of this matrix:",
      "metadata": {},
      "id": "d1ca6e55-205a-41a2-ad1b-3aa06339f6fe"
    },
    {
      "cell_type": "code",
      "source": "for i in range(3):\n    plt.figure()\n    plt.title(f'$s_{i}(t)$')\n    plotsig(s[i])",
      "metadata": {
        "trusted": true
      },
      "execution_count": 4,
      "outputs": [
        {
          "output_type": "display_data",
          "data": {
            "text/plain": "<Figure size 432x288 with 1 Axes>",
            "image/png": "[encoded data removed]"
          },
          "metadata": {
            "needs_background": "light"
          }
        },
        {
          "output_type": "display_data",
          "data": {
            "text/plain": "<Figure size 432x288 with 1 Axes>",
            "image/png": "[encoded data removed]"
          },
          "metadata": {
            "needs_background": "light"
          }
        },
        {
          "output_type": "display_data",
          "data": {
            "text/plain": "<Figure size 432x288 with 1 Axes>",
            "image/png": "[encoded data removed]"
          },
          "metadata": {
            "needs_background": "light"
          }
        }
      ],
      "id": "f8c6e528-8b15-4377-a6d0-90a4d0a36afd"
    },
    {
      "cell_type": "markdown",
      "source": "Let's not do Gram-Schmidt at first. Let's see what happens if we guess that the basis is the rows of this matrix:",
      "metadata": {},
      "id": "efcd6bab-a94a-4604-9bc5-f1ed2d6dbd19"
    },
    {
      "cell_type": "code",
      "source": "f = np.array([\n    [1, 0, 0], # f0\n    [0, 1, 0], # f1\n    [0, 0, 1]  # f2\n])\n    ",
      "metadata": {
        "trusted": true
      },
      "execution_count": 5,
      "outputs": [],
      "id": "2e48798c-4ae1-4193-9a59-9aaec63fdc19"
    },
    {
      "cell_type": "markdown",
      "source": "The rows are the three \"chips\" that these waveforms are built out of. Here are the plots of these three functions:",
      "metadata": {},
      "id": "97c2b150-c7c4-40e1-8a48-b8e90dad6a93"
    },
    {
      "cell_type": "code",
      "source": "for i in range(3):\n    plt.figure()\n    plotsig(f[i])",
      "metadata": {
        "trusted": true
      },
      "execution_count": 6,
      "outputs": [
        {
          "output_type": "display_data",
          "data": {
            "text/plain": "<Figure size 432x288 with 1 Axes>",
            "image/png": "[encoded data removed]"
          },
          "metadata": {
            "needs_background": "light"
          }
        },
        {
          "output_type": "display_data",
          "data": {
            "text/plain": "<Figure size 432x288 with 1 Axes>",
            "image/png": "[encoded data removed]"
          },
          "metadata": {
            "needs_background": "light"
          }
        },
        {
          "output_type": "display_data",
          "data": {
            "text/plain": "<Figure size 432x288 with 1 Axes>",
            "image/png": "[encoded data removed]"
          },
          "metadata": {
            "needs_background": "light"
          }
        }
      ],
      "id": "2976cacb-af8f-47a7-a9cd-39f4dd4a5f45"
    },
    {
      "cell_type": "markdown",
      "source": "We can easily check that the rows are orthonormal by doing all the inner (dot) products $f_i \\cdot f_j$ for all $i$ and $j$, which can most easily be implemented as matrix multiplication:",
      "metadata": {},
      "id": "64508104-52a6-441e-bca0-01536a9933fe"
    },
    {
      "cell_type": "code",
      "source": "f @ f.T",
      "metadata": {
        "trusted": true
      },
      "execution_count": 7,
      "outputs": [
        {
          "execution_count": 7,
          "output_type": "execute_result",
          "data": {
            "text/plain": "array([[1, 0, 0],\n       [0, 1, 0],\n       [0, 0, 1]])"
          },
          "metadata": {}
        }
      ],
      "id": "1ecc6a86-5cf2-4eb8-8fde-0746211a2714"
    },
    {
      "cell_type": "markdown",
      "source": "Since we got an identity matrix, the rows are orthonormal.",
      "metadata": {},
      "id": "c6f5d5c5-d097-4d9c-bc1e-5a2cbd71cb91"
    },
    {
      "cell_type": "markdown",
      "source": "Now let's get the representations of the $s_i$ in terms of the $f_i$. We need to get the inner (dot) product of each $s_i$ with each $f_j$, and we can again do it via matrix multiplication:",
      "metadata": {},
      "id": "f173d068-2b4a-465d-bce1-50eabede817f"
    },
    {
      "cell_type": "code",
      "source": "s_rep = s @ f.T\nprint(s_rep)",
      "metadata": {
        "trusted": true
      },
      "execution_count": 8,
      "outputs": [
        {
          "name": "stdout",
          "text": "[[ 1  1  0]\n [ 1  2  1]\n [ 1  0 -1]]\n",
          "output_type": "stream"
        }
      ],
      "id": "97f9e1c9-16cb-4d94-95c5-81e92f4e7d3c"
    },
    {
      "cell_type": "markdown",
      "source": "Since the $f_i$ are the chips, we can see that the representation of each $\\mathbf{s}_i$ is just the vector $\\mathbf{s}_i$ itself.",
      "metadata": {},
      "id": "78bad216-a085-4f7e-b027-81b21cf350ed"
    },
    {
      "cell_type": "markdown",
      "source": "But do the rows of `f` form a basis? How can we check? \n\nWe can check by seeing to see how many linearly independent rows the representation matrix has:\n",
      "metadata": {},
      "id": "a116b901-ff70-4a1d-9830-9ab621acd862"
    },
    {
      "cell_type": "code",
      "source": "np.linalg.matrix_rank(s_rep)",
      "metadata": {
        "trusted": true
      },
      "execution_count": 9,
      "outputs": [
        {
          "execution_count": 9,
          "output_type": "execute_result",
          "data": {
            "text/plain": "2"
          },
          "metadata": {}
        }
      ],
      "id": "b2c17279-46a7-4494-93a3-0fa0a172d64e"
    },
    {
      "cell_type": "markdown",
      "source": "Note that we could have also checked the rank of the original matrix (in this example, they are the same!) to determine how many basis functions will be required.\n\nIf you find your chosen set of functions is not minimal (not a basis) and you need to know the true dimensionality, you can:\n* Try to choose a different set of orthonormal functions based on the signal -- for instance, $s_1(t)$ and $s_2(t)$ are orthogonal, and so are a linearly independent set of cardinality 2.  We should be able to normalize those  and use the resulting functions to span the whole set (see below).\n* Just do the Gram-Schmidt procedure in any order that is convenient.",
      "metadata": {},
      "id": "c84e80a7-9b80-4d18-a8b1-1ab39abca42f"
    },
    {
      "cell_type": "markdown",
      "source": "## Problems",
      "metadata": {},
      "id": "84106753-3267-4993-a285-6038300f3392"
    },
    {
      "cell_type": "markdown",
      "source": "### 1. Apply the Gram-Schmidt procedure on this signal set in the order $s_1, s_2, s_0$.\n\na) Find the vector form of each basis function and plot the basis functions.\n\nb) Use matrix multiplication to show that the basis functions are orthonormal.\n\nc) Find the coefficents $s_{ij}$ to represent each signal as a linear combination of the basis functions.\n\nd) Confirm that the norms and inner products of the signal-space representation are the same as the original signals.",
      "metadata": {},
      "id": "ee08d2f8-e882-4422-b83b-906212deddf8"
    },
    {
      "cell_type": "markdown",
      "source": "### 2. Apply the Gram-Schmidt procedure on this signal set in the order $s_0, s_1, s_2$.\n\na) Find the vector form of each basis function and plot the basis functions.\n\nb) Use matrix multiplication to show that the basis functions are orthonormal.\n\nc) Find the coefficents $s_{ij}$ to represent each signal as a linear combination of the basis functions.\n\nd) Confirm that the norms and inner products of the signal-space representation are the same as the original signals.",
      "metadata": {},
      "id": "d5ac5f60-b0ea-47fe-891d-a6d1edbff518"
    },
    {
      "cell_type": "markdown",
      "source": "### 3. Now consider the signals that have vector coefficients in the rows of the matrix s2:",
      "metadata": {},
      "id": "d6097763-2adc-4cc3-8902-f3a96ba0c653"
    },
    {
      "cell_type": "code",
      "source": "s2=np.vstack((\n    np.array([ 4,4, 3,3, 0,0, 3,3, 4,4]),\n    np.array([ 4,4, 3,3, 0,0, -3,-3, -4,-4]),\n    np.sqrt(2)*np.array([ 4,4, 3,3, 0,0, 0,0, 0,0]),\n    np.sqrt(2)*np.array([ 0,0, 0,0, 0,0, -3,-3, -4,-4])\n))\ns2",
      "metadata": {
        "trusted": true
      },
      "execution_count": 10,
      "outputs": [
        {
          "execution_count": 10,
          "output_type": "execute_result",
          "data": {
            "text/plain": "array([[ 4.        ,  4.        ,  3.        ,  3.        ,  0.        ,\n         0.        ,  3.        ,  3.        ,  4.        ,  4.        ],\n       [ 4.        ,  4.        ,  3.        ,  3.        ,  0.        ,\n         0.        , -3.        , -3.        , -4.        , -4.        ],\n       [ 5.65685425,  5.65685425,  4.24264069,  4.24264069,  0.        ,\n         0.        ,  0.        ,  0.        ,  0.        ,  0.        ],\n       [ 0.        ,  0.        ,  0.        ,  0.        ,  0.        ,\n         0.        , -4.24264069, -4.24264069, -5.65685425, -5.65685425]])"
          },
          "metadata": {}
        }
      ],
      "id": "b89e537a-f8bc-409d-8aac-6d5cfc400e62"
    },
    {
      "cell_type": "code",
      "source": "for k in range(4):\n    plt.figure()\n    plt.title(f'$s_{k}(t)$')\n    plotsig(s2[k])",
      "metadata": {
        "trusted": true
      },
      "execution_count": 11,
      "outputs": [
        {
          "output_type": "display_data",
          "data": {
            "text/plain": "<Figure size 432x288 with 1 Axes>",
            "image/png": "[encoded data removed]"
          },
          "metadata": {
            "needs_background": "light"
          }
        },
        {
          "output_type": "display_data",
          "data": {
            "text/plain": "<Figure size 432x288 with 1 Axes>",
            "image/png": "[encoded data removed]"
          },
          "metadata": {
            "needs_background": "light"
          }
        },
        {
          "output_type": "display_data",
          "data": {
            "text/plain": "<Figure size 432x288 with 1 Axes>",
            "image/png": "[encoded data removed]"
          },
          "metadata": {
            "needs_background": "light"
          }
        },
        {
          "output_type": "display_data",
          "data": {
            "text/plain": "<Figure size 432x288 with 1 Axes>",
            "image/png": "[encoded data removed]"
          },
          "metadata": {
            "needs_background": "light"
          }
        }
      ],
      "id": "d4e3e737-8dd3-42fd-8c38-36b71cedeb2b"
    },
    {
      "cell_type": "markdown",
      "source": "a) Determine if the functions with coefficients in the rows of the following matrix form a basis. If not, determine the dimensionality of this signal set.\n\nb) Find a basis for this signal set by performing the Gram-Schmidt procedure in the order $s0, s1, s2, s3$. Give the representation for each signal and plot a signal constellation.\n\nc) Find a basis for this signal set by performing the Gram-Schmidt procedure in the order $s2, s3, s0, s1$. Give the representation for each signal and plot a signal constellation.",
      "metadata": {},
      "id": "7f4013be-388e-42a6-a495-5261db28a46a"
    },
    {
      "cell_type": "markdown",
      "source": "### 4. Analyze the following signals.\n\nThe file `signals.pkl` is a Python 3.x pickle file that contains a\n    single dictionary of key/value pairs, with the keys being the\n    names of the variables mentioned below matched to the\n    corresponding arrays.\n\n  Each of the variables in the data file, except for $S$, consists of\n  a matrix whose rows represent signals.  The variable $S$ is also a\n  matrix, but its rows represent signals that are to be used as a\n  basis in part (f).\n\n  The parts below ask you to find the signal-space representation for\n  each signal set. The easiest way to do this (other than using some\n  existing code that to do Gram-Schmidt or equivalent) is to write\n  a function to do the Gram-Schmidt orthogonalization procedure.\n  The procedure should output both the\n  orthonormal basis functions and the vector representations of each\n  signal.  **Do not just use a direct call to the QR decomposition.\n  Also, I know there are many Gram-Schmidt procedures written in\n    MATLAB on the web.  Please do not use those.  Do your own work\n    independently. This is not hard because you are just iterating over\n    the signals and finding the procedure (much like in the example and problems\n    above). Also, most of the versions on\n    the web require that the signal set be of the same size as the\n    basis.  That is not true for some of the signals that you will be\n    asked to process.**\n\n  Note that Python uses floating point numbers to represent\n  quantities that might not have a finite-bit floating point\n  representation.  Thus some mathematical errors will arise and may\n  cause difficulty as you implement the algorithm.  For the purposes\n  of this algorithm, I suggest you treat an inner product as 0 if the\n  value is less than 0.01.  Otherwise, you will end up with some\n  really small values assigned to inner products that would have been\n  zero with infinite-precision math.\n\n\n**a)** For each signal set, run it through your algorithm, specify\n    the dimensionality of the signal set, and give the vector\n    representation of each signal.\n\n**b)** Compare the vector representations of signal sets $A$ and $B$.  What do you observe?  Explain any similarities or differences.\n    Did you notice these before running the Gram-Schmidt procedure?\n\n**c)** Plot the signal constellation for signal set $P$.\n    Look at the signal constellation and plots of the original signals -- which features \n    are varied across different signals?\n    What properties can you observe about this\n    signal set from the signal space representation?  How many correlators\n    would the demodulator need to optimally detect this signal set?\n\n**d)**   Look at the signal-space representation and the plots of the original signals for signal set $F$ -- which features \n    are varied across different signals? What properties can you observe about this\n    signal set from the signal space representation?  How many\n    correlators would the demodulator need to optimally detect this\n    signal set?\n\n**e)** Find the signal-space representation of signal set $Q$ and plot the signal constellation.\n    Look at the signal constellation and plots of the original signals -- which features \n    are varied across different signals? What properties can you observe about this signal\n    set from the signal space representation?  How many correlators\n    would the demodulator need to optimally detect this signal set?\n\n**f)** Modify your Gram-Schmidt algorithm to allow you to specify a set\n    of basis waveforms.  I.e., the new algorithm will only find the \n    vector representations of each signal.  Run the new algorithm on\n    the signal set $Q$ when the rows of $S$ are used as the basis.  Plot\n    the signal constellation.\n    \n ",
      "metadata": {},
      "id": "c9d2bd1c-8c15-474a-b756-aaba6d6a84d5"
    },
    {
      "cell_type": "code",
      "source": "from js import fetch\nimport pickle\n\nURL = \"https://raw.githubusercontent.com/jmshea/digicom-jupyter/main/content/signals.pkl\"\n\nres = await fetch(URL)\ntext = await res.arrayBuffer()\n\ndata = pickle.loads(text.to_py())",
      "metadata": {
        "trusted": true
      },
      "execution_count": 1,
      "outputs": [],
      "id": "688cf4cb-d828-4e11-8925-4861d0c8cd3b"
    },
    {
      "cell_type": "code",
      "source": "data.keys()",
      "metadata": {
        "trusted": true
      },
      "execution_count": 2,
      "outputs": [
        {
          "execution_count": 2,
          "output_type": "execute_result",
          "data": {
            "text/plain": "dict_keys(['S', 'A', 'B', 'C', 'Q', 'F', 'P'])"
          },
          "metadata": {}
        }
      ],
      "id": "67afc230-84b7-46f9-baeb-d29586005631"
    },
    {
      "cell_type": "code",
      "source": "S = data['S']; A = data['A']; B = data['B']; C = data['C']\nQ = data['Q']; F = data['F']; P = data['P']",
      "metadata": {
        "trusted": true
      },
      "execution_count": 3,
      "outputs": [],
      "id": "5e57e827-444e-4252-bc35-03a487b219f0"
    },
    {
      "cell_type": "code",
      "source": "",
      "metadata": {},
      "execution_count": null,
      "outputs": [],
      "id": "cca3346d-91f7-42b6-9d75-5bb42cd1ae07"
    }
  ]
}