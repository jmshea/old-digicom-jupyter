{
 "cells": [
  {
   "cell_type": "markdown",
   "id": "57a463df-c0da-4e35-9031-c89108ee7b3f",
   "metadata": {},
   "source": [
    "## Representing signal using orthonormal signals\n",
    "\n",
    "In this assignment, we will generate orthonormal vectors using the rows of a Hadamard matrix. Read the Wikipedia page https://en.wikipedia.org/wiki/Hadamard_matrix to find out more about these matrices. \n",
    "\n",
    "We will then use the orthonormal vectors to approximate different functions. \n",
    "\n",
    "We start by loading some libraries that we will need. If you are using the Anaconda version of Python, these should already be installed.\n",
    "\n",
    "Use shift-Enter or the play button above (a rightward facing triangle) to execute each line of code and move to the next line."
   ]
  },
  {
   "cell_type": "code",
   "execution_count": null,
   "id": "e3119b4b-1a15-4d4d-a617-f8e8f18e1b7a",
   "metadata": {},
   "outputs": [],
   "source": [
    "import numpy as np\n",
    "\n",
    "# I often avoid importing functions into our global namespace, but I hope that this will be \n",
    "# faster in JupyterLite than importing the whole library:\n",
    "from scipy.linalg import hadamard"
   ]
  },
  {
   "cell_type": "code",
   "execution_count": null,
   "id": "e99b7615-5d42-4575-afcc-0388f1c3522a",
   "metadata": {},
   "outputs": [],
   "source": [
    "import matplotlib.pyplot as plt"
   ]
  },
  {
   "cell_type": "code",
   "execution_count": null,
   "id": "b5c90d57-d411-4466-84b6-abd7fac7778d",
   "metadata": {},
   "outputs": [],
   "source": [
    "import micropip\n",
    "\n",
    "await micropip.install('ipywidgets')"
   ]
  },
  {
   "cell_type": "code",
   "execution_count": null,
   "id": "eed05918-a3c7-4dda-ac74-65a2baca1040",
   "metadata": {},
   "outputs": [],
   "source": [
    "from ipywidgets import interact\n",
    "import ipywidgets as widgets\n"
   ]
  },
  {
   "cell_type": "markdown",
   "id": "d202cbcc-ea5a-4d34-89d8-3164d3a37ce5",
   "metadata": {},
   "source": [
    "Choose a reasonably small power of 2. We need a power of 2 because we will represent a function (here, implemented as a vector of the function values on an interval) using the normalized rows of a Hadamard matrix as the orthonormal functions "
   ]
  },
  {
   "cell_type": "code",
   "execution_count": null,
   "id": "36d8c145-9e94-4ded-adaf-e4e7ee5bc802",
   "metadata": {},
   "outputs": [],
   "source": [
    "N=16"
   ]
  },
  {
   "cell_type": "markdown",
   "id": "7b668542-d8f8-448f-8573-81008aad0859",
   "metadata": {},
   "source": [
    "Generate a function, g, that is a sinusoid with N samples in about a 1 s interval:"
   ]
  },
  {
   "cell_type": "code",
   "execution_count": null,
   "id": "23125517-245f-4064-ac35-1290708b9826",
   "metadata": {},
   "outputs": [],
   "source": [
    "t=np.linspace(1/N,1, N)\n",
    "g=np.sin(2*np.pi*t)\n",
    "plt.plot(t, g)"
   ]
  },
  {
   "cell_type": "markdown",
   "id": "32868587-07ba-4e53-8276-2509277f224b",
   "metadata": {},
   "source": [
    "Now generate a Hadamard matrix  and print it out. "
   ]
  },
  {
   "cell_type": "code",
   "execution_count": null,
   "id": "e4ad33a8-5dd3-4971-835a-b19a9f5f671a",
   "metadata": {},
   "outputs": [],
   "source": [
    "print(hadamard(N))"
   ]
  },
  {
   "cell_type": "markdown",
   "id": "0a93c974-6fa9-4adb-83f3-06c84860855b",
   "metadata": {},
   "source": [
    "We need the rows to have norm 1, so we can do a simple normalization."
   ]
  },
  {
   "cell_type": "code",
   "execution_count": null,
   "id": "543124b4-e752-42da-a46a-ba08abba6fe1",
   "metadata": {},
   "outputs": [],
   "source": [
    "H=1/np.sqrt(N)*hadamard(N)[:]\n",
    "print(H)"
   ]
  },
  {
   "cell_type": "markdown",
   "id": "82cbbf7d-2f4a-4b03-8101-96ddcd85d980",
   "metadata": {},
   "source": [
    "By multiplying the H matrix by its transpose, we will calculate all the inner products:"
   ]
  },
  {
   "cell_type": "code",
   "execution_count": null,
   "id": "6c6b4a64-4efb-415c-b812-db885a244889",
   "metadata": {},
   "outputs": [],
   "source": [
    "H@H.T"
   ]
  },
  {
   "cell_type": "markdown",
   "id": "55132dea-e818-4597-bf4b-3b31407ff701",
   "metadata": {},
   "source": [
    "Find the coefficients that represent the sinusoid. We need to take the inner (dot) product of f with each row of H. This is easily implemented through matrix multiplication:"
   ]
  },
  {
   "cell_type": "code",
   "execution_count": null,
   "id": "008ed5aa-6bd5-43ad-a6c8-624d436429e1",
   "metadata": {},
   "outputs": [],
   "source": [
    "g_rep=g@H.T\n",
    "g_rep"
   ]
  },
  {
   "cell_type": "markdown",
   "id": "5266ea81-6850-454d-bf10-1d10bfaf2729",
   "metadata": {},
   "source": [
    "The following function generates an interactive plot. You can use the slider to adjust the number of orthonormal functions that will be used in approximating the function g:"
   ]
  },
  {
   "cell_type": "code",
   "execution_count": null,
   "id": "77f85e44-135e-458f-a11b-c88eaaefb0ab",
   "metadata": {},
   "outputs": [],
   "source": [
    "def plot_approximate(g):\n",
    "    '''\n",
    "    Plot the approximate representation of a vector g using the rows of the Hadamard matrix \n",
    "    as a basis.  This function provides a slider that will allow the user to select how many\n",
    "    rows are used, where the rows that have the largest magnitude coefficients will be used.\n",
    "    \n",
    "    John M. Shea\n",
    "    1/10/2022\n",
    "    '''\n",
    "    \n",
    "    # Some of the followin lines are duplicates from above; they make this function self-contained\n",
    "    N=len(g)\n",
    "    \n",
    "    # Make sure that N is a power of 2:\n",
    "    assert ((N & (N-1) == 0) and N != 0), \"The length of vector g must be a power of 2\"\n",
    "    \n",
    "    H=1/np.sqrt(N)*hadamard(N)[:]\n",
    "    g_rep=g@H.T\n",
    "\n",
    "\n",
    "    # Get the locations of the coefficients in order of magnitude\n",
    "    importance=np.argsort(np.abs(g_rep))\n",
    "    \n",
    "    \n",
    "    \n",
    "    def plot_importance(num_coefficients):\n",
    "        \n",
    "        N=len(g)\n",
    "        truncated_importance = importance[ (N - num_coefficients) : ]\n",
    "        g_hat = g_rep[truncated_importance] @ H[truncated_importance]\n",
    "        plt.xlabel('t')\n",
    "        plt.plot(t, g, label=f'$g(x)$')\n",
    "        plt.plot(t, g_hat, linestyle=':', label=f'$\\hat{{g}}(x)$', linewidth=3, alpha=0.5)\n",
    "\n",
    "        signal_energy = np.linalg.norm(g)**2\n",
    "        error_energy = np.linalg.norm(g-g_hat)**2\n",
    "        plt.title(f\"% Error = {100*error_energy/signal_energy:.3g}\")\n",
    "        plt.legend()\n",
    "        plt.show()\n",
    "        \n",
    "    interact(plot_importance, num_coefficients=widgets.IntSlider(min=1, max=N, step=1, value=1,\n",
    "                                                                 description='# components',\n",
    "                                                                 style={'description_width':'initial'}) ) \n",
    "\n",
    "    "
   ]
  },
  {
   "cell_type": "markdown",
   "id": "c7107d8b-706f-4243-b758-56c8b75414ec",
   "metadata": {},
   "source": [
    "I am repeating the definition of the function g() here. You can edit the first line in the cell below to try different functions, as required in the assignment."
   ]
  },
  {
   "cell_type": "code",
   "execution_count": null,
   "id": "322326e5-6346-403b-8f06-f7ede769d513",
   "metadata": {},
   "outputs": [],
   "source": [
    "g=np.sin(2*np.pi*t)  # Edit this line to try different functions\n",
    "\n",
    "plot_approximate(g)"
   ]
  },
  {
   "cell_type": "markdown",
   "id": "a5c6048e-220a-486d-aa8d-e3d6ef1ad81d",
   "metadata": {},
   "source": [
    "What do you observe?"
   ]
  },
  {
   "cell_type": "markdown",
   "id": "5db99517-145a-4148-84f3-4d851800c866",
   "metadata": {},
   "source": [
    "## Assignment\n",
    "\n",
    "\n",
    "Record and submit your answers to the following:\n",
    "\n",
    "For each of the following waveforms, how many coefficients are needed to achieve 1% error? 0.1% error? and 0.01% error?\n",
    "\n",
    "1) sin at 1 Hz\n",
    "2) sin at 2 Hz\n",
    "3) sin at 0.5 Hz\n",
    "4) cos at 1 Hz\n",
    "5) exp(t)\n",
    "6) exp (-t)\n",
    "7) log (t)\n",
    "\n",
    "You may submit a Jupyter notebook, a text document, or you can handwrite your answers and scan to a PDF.\n",
    "\n",
    "If you are recording your answers in the JupyterLite notebook, then be sure to use File->Download to get the notebook with your changes. \n",
    "\n",
    "(When you make changes to the JupyterLite notebook, they are stored on your local machine using HTML5 Local Storage. These changes do not affect anything in GitHub.)"
   ]
  }
 ],
 "metadata": {
  "kernelspec": {
   "display_name": "Python 3 (ipykernel)",
   "language": "python",
   "name": "python3"
  },
  "language_info": {
   "codemirror_mode": {
    "name": "ipython",
    "version": 3
   },
   "file_extension": ".py",
   "mimetype": "text/x-python",
   "name": "python",
   "nbconvert_exporter": "python",
   "pygments_lexer": "ipython3",
   "version": "3.7.4"
  }
 },
 "nbformat": 4,
 "nbformat_minor": 5
}
